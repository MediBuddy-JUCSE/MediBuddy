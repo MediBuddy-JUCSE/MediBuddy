{
 "cells": [
  {
   "cell_type": "code",
   "execution_count": 9,
   "metadata": {},
   "outputs": [],
   "source": [
    "# Dependancies\n",
    "from datetime import datetime, timedelta\n",
    "import fitz  # PyMuPDF, imported as fitz for backward compatibility reasons\n",
    "from PIL import Image\n",
    "import pytesseract\n",
    "import requests\n",
    "from fastapi import FastAPI\n",
    "from pydantic import BaseModel\n",
    "import json\n",
    "from pydantic import BaseModel, Field\n",
    "from langchain.prompts import ChatPromptTemplate\n",
    "from langchain.chat_models import ChatOpenAI\n",
    "from langchain.utils.openai_functions import convert_pydantic_to_openai_function\n",
    "from langchain.output_parsers.openai_functions import JsonOutputFunctionsParser\n",
    "from langchain.schema.output_parser import StrOutputParser\n",
    "from typing import List\n",
    "from pydantic import BaseModel, Field\n",
    "from langchain.utils.openai_functions import convert_pydantic_to_openai_function\n",
    "from langchain.chat_models import ChatOpenAI\n",
    "from typing import Optional\n",
    "import re\n",
    "import torch\n",
    "from transformers import BertTokenizer, BertForTokenClassification"
   ]
  },
  {
   "cell_type": "code",
   "execution_count": 10,
   "metadata": {},
   "outputs": [],
   "source": [
    "from utils import *"
   ]
  },
  {
   "cell_type": "code",
   "execution_count": 11,
   "metadata": {},
   "outputs": [],
   "source": [
    "destination_path = 'C:/Users/Aryan/Desktop/NaturalQL/Report.pdf'\n",
    "    # download_pdf(url, destination_path)\n",
    "text = pdf_to_text(destination_path)\n",
    "\n",
    "    # Define the replacement patterns\n",
    "patterns = {'tab': 'tablet', 'cap': 'capsule',\n",
    "                \"TAB\": \"tablet\", \"Cap\": \"capsule\", \"Tab\": \"tablet\"}\n",
    "    # Create a regular expression pattern for matching the keys in the dictionary\n",
    "pattern = re.compile(r'\\b(?:' + '|'.join(re.escape(key)\n",
    "                         for key in patterns.keys()) + r')\\b')\n",
    "    # Replace the matched patterns with their corresponding values\n",
    "text = pattern.sub(lambda match: patterns[match.group(0)], text)"
   ]
  },
  {
   "cell_type": "code",
   "execution_count": 13,
   "metadata": {},
   "outputs": [
    {
     "name": "stdout",
     "output_type": "stream",
     "text": [
      "OAD\n",
      "\n",
      "56072, DIAMOND HARBOUR Ont\n",
      "ence vain Siceramet 8 St\n",
      "\n",
      "BEHALA, KOLKATA ~ 700 09\n",
      "\n",
      "Dr.CHAUDHURI’s\n",
      "\n",
      "DIAGNOSTIC CENTRE,\n",
      "\n",
      "Dr. Chandan Kumar Chaudhut!\n",
      "‘Cansultont Radiologyst & Sonolog’s\n",
      "Mobile : 9836059999\n",
      "\n",
      "Reporting Date =a\n",
      "\n",
      "USG WHOLE ABDOMEN\n",
      "HO TAH & BSO\n",
      "\n",
      "LIVER:\n",
      "Liver is marginally enlarged in size ( Span: 15.4 cm) . Parenchymal echogeneciy is moderately diffusely\n",
      "raised, No focal parenchymal lesion is seen. Intrahepatic biliary radicles are not dilated.\n",
      "\n",
      "PORTA;\n",
      "PV: Normal in diameter with echo free lumen.\n",
      "\n",
      "CD: CD is normal in calibre, No definite calcular echogenicity could be seen in the visualised part of the\n",
      "capsule,\n",
      "\n",
      "CD measures 2.9 mm, PV measures 8.8 mm.\n",
      "\n",
      "GALL BLADDER:\n",
      "Gall bladder is optimally distended with normal wall thickness. No intraluminal calculus or intramural mass\n",
      "\n",
      "lesion seen..No peri cholecystc collection seen,\n",
      "\n",
      "PANCREAS:\n",
      "Pancreas is normal in size, shape, outline and echotexture. Parenchymal echogenecity is mildly diffusely\n",
      "raised, No focal sol or calcification noted, Main pancreatic duct isnot dilated\n",
      "\n",
      "SPLEEN:\n",
      "‘Spleen appeared normal in size. Parenchymal echotexture is normal. Splenic vein at its hilum isnot dilated\n",
      "\n",
      "KIDNEYS:\n",
      "Both kidneys appear normal in size, shape site, and outline, Cortical echogenicity appears, normal in,\n",
      "Central echo complexes are normal. No evidence of stone hydronephrosis or any mass lesion seen\n",
      "\n",
      "Right kidney measures 11.0 em, & Left kidney measures 10.9 cm,\n",
      "\n",
      "URETERS;\n",
      "No hold up seen,\n",
      "\n",
      "PTO\n",
      "\n",
      "(om nL WO cn DaPEN SHADY COLOUADOPLER CHO CHRTORUPRY HALL ARTS WUREUD SXELETAL SONOERADV ATHOLOOT]\n",
      "\n",
      "\n"
     ]
    }
   ],
   "source": [
    "print(text)"
   ]
  },
  {
   "cell_type": "code",
   "execution_count": 14,
   "metadata": {},
   "outputs": [],
   "source": [
    "model = ChatOpenAI(temperature=0)\n",
    "prompt = ChatPromptTemplate.from_messages([\n",
    "    (\"system\", \"You are a Medical Assistant, Summarise the Findings of the following Pathological Report provided as text.\"),\n",
    "    (\"human\", \"Report: {report}\")\n",
    "])\n",
    "chain = prompt | model | StrOutputParser()"
   ]
  },
  {
   "cell_type": "code",
   "execution_count": 16,
   "metadata": {},
   "outputs": [
    {
     "name": "stdout",
     "output_type": "stream",
     "text": [
      "Pathological Findings:\n",
      "\n",
      "Liver:\n",
      "- Marginally enlarged in size (Span: 15.4 cm)\n",
      "- Moderately diffusely raised parenchymal echogenicity\n",
      "- No focal parenchymal lesion seen\n",
      "- Intrahepatic biliary radicles not dilated\n",
      "\n",
      "Porta:\n",
      "- Portal vein normal in diameter with echo-free lumen\n",
      "- Common duct normal in calibre\n",
      "- No definite calcular echogenicity seen in the visualised part of the capsule\n",
      "- Common duct measures 2.9 mm, portal vein measures 8.8 mm\n",
      "\n",
      "Gall bladder:\n",
      "- Optimally distended with normal wall thickness\n",
      "- No intraluminal calculus or intramural mass lesion seen\n",
      "- No peri cholecystic collection seen\n",
      "\n",
      "Pancreas:\n",
      "- Normal in size, shape, outline, and echotexture\n",
      "- Mildly diffusely raised parenchymal echogenicity\n",
      "- No focal sol or calcification noted\n",
      "- Main pancreatic duct not dilated\n",
      "\n",
      "Spleen:\n",
      "- Normal in size\n",
      "- Normal parenchymal echotexture\n",
      "- Splenic vein at its hilum not dilated\n",
      "\n",
      "Kidneys:\n",
      "- Both kidneys normal in size, shape, site, and outline\n",
      "- Normal cortical echogenicity\n",
      "- Normal central echo complexes\n",
      "- No evidence of stone hydronephrosis or any mass lesion seen\n",
      "- Right kidney measures 11.0 cm, left kidney measures 10.9 cm\n",
      "\n",
      "Ureters:\n",
      "- No hold up seen\n",
      "\n",
      "Overall, the pathological report indicates that there are no significant abnormalities found in the whole abdomen ultrasound examination.\n"
     ]
    }
   ],
   "source": [
    "print(chain.invoke({\"report\":text}))"
   ]
  },
  {
   "cell_type": "code",
   "execution_count": null,
   "metadata": {},
   "outputs": [],
   "source": []
  }
 ],
 "metadata": {
  "kernelspec": {
   "display_name": "Python 3",
   "language": "python",
   "name": "python3"
  },
  "language_info": {
   "codemirror_mode": {
    "name": "ipython",
    "version": 3
   },
   "file_extension": ".py",
   "mimetype": "text/x-python",
   "name": "python",
   "nbconvert_exporter": "python",
   "pygments_lexer": "ipython3",
   "version": "3.11.2"
  }
 },
 "nbformat": 4,
 "nbformat_minor": 2
}
